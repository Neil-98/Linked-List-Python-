{
  "nbformat": 4,
  "nbformat_minor": 0,
  "metadata": {
    "colab": {
      "provenance": []
    },
    "kernelspec": {
      "name": "python3",
      "display_name": "Python 3"
    },
    "language_info": {
      "name": "python"
    }
  },
  "cells": [
    {
      "cell_type": "code",
      "execution_count": 2,
      "metadata": {
        "id": "kln7K1GFeR4M"
      },
      "outputs": [],
      "source": [
        "class LinkedList:\n",
        "\n",
        "  def __init__(self):\n",
        "    self.linkList = []\n",
        "\n",
        "  def addElement(self, element):\n",
        "    self.linkList.append(element)\n",
        "\n",
        "  def addElements(self, elemList):\n",
        "    self.linkList.extend(elemList)\n",
        "\n",
        "  def isEmpty(self):\n",
        "    if self.linkList == []:\n",
        "      print(\"Yes\")\n",
        "    else:\n",
        "      print(\"No\")\n",
        "\n",
        "  def pop(self):\n",
        "    self.linkList.pop()\n",
        "\n",
        "  def showElements(self):\n",
        "    print(self.linkList)"
      ]
    },
    {
      "cell_type": "code",
      "source": [
        "listObj = LinkedList()\n",
        "\n",
        "print('Is the list empty?')\n",
        "listObj.isEmpty()\n",
        "\n",
        "print(\"Adding head element: 2\")\n",
        "listObj.addElement(2)\n",
        "print(\"Adding elements: 3, 'a', 'bat', [34], 2...\")\n",
        "listObj.addElements([3, 'a', 'bat', [34], 2])\n",
        "\n",
        "print('Is the list still empty?')\n",
        "listObj.isEmpty()\n",
        "\n",
        "print('What are its contents?')\n",
        "listObj.showElements()\n",
        "\n",
        "print('Deleting 3 elements...')\n",
        "for i in range(0, 3):\n",
        "  listObj.pop()\n",
        "  i = i + 1\n",
        "\n",
        "print('What are its contents now?')\n",
        "listObj.showElements()"
      ],
      "metadata": {
        "colab": {
          "base_uri": "https://localhost:8080/"
        },
        "id": "3Mr-L_ZEe9fB",
        "outputId": "ac8e4391-5dfe-4b24-dba6-5273c100f297"
      },
      "execution_count": 5,
      "outputs": [
        {
          "output_type": "stream",
          "name": "stdout",
          "text": [
            "Is the list empty?\n",
            "Yes\n",
            "Adding head element: 2\n",
            "Adding elements: 3, 'a', 'bat', [34], 2...\n",
            "Is the list still empty?\n",
            "No\n",
            "What are its contents?\n",
            "[2, 3, 'a', 'bat', [34], 2]\n",
            "Deleting 3 elements...\n",
            "What are its contents now?\n",
            "[2, 3, 'a']\n"
          ]
        }
      ]
    }
  ]
}