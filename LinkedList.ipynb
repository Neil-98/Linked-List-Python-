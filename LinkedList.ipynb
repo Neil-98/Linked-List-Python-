{
  "nbformat": 4,
  "nbformat_minor": 0,
  "metadata": {
    "colab": {
      "provenance": []
    },
    "kernelspec": {
      "name": "python3",
      "display_name": "Python 3"
    },
    "language_info": {
      "name": "python"
    }
  },
  "cells": [
    {
      "cell_type": "code",
      "source": [
        "class Node:\n",
        "\n",
        "  def __init__(self, value, prev = None):\n",
        "    self.value = value\n",
        "    self.prev = prev\n",
        "    self.next = None\n",
        "\n",
        "\n",
        "  def getValue(self):\n",
        "    return self.value\n",
        "\n",
        "  def getPrev(self):\n",
        "    return self.prev\n",
        "\n",
        "  def getNext(self):\n",
        "    return self.next\n",
        "\n",
        "  def setNext(self, next):\n",
        "    self.next = next\n",
        "\n",
        "  def setPrev(self, prev):\n",
        "    self.prev = prev"
      ],
      "metadata": {
        "id": "iwYl0FYdOe2k"
      },
      "execution_count": 1,
      "outputs": []
    },
    {
      "cell_type": "code",
      "source": [
        "class LinkedList:\n",
        "\n",
        "  def __init__(self, headValue):\n",
        "    self.head = Node(value = headValue)\n",
        "\n",
        "  def addNode(self, value):\n",
        "    newNode = Node(value)\n",
        "    lastNode = self.head\n",
        "\n",
        "    while lastNode.getNext() is not None:\n",
        "      lastNode = lastNode.getNext()\n",
        "\n",
        "    lastNode.setNext(newNode)\n",
        "    newNode.setPrev(lastNode)\n",
        "\n",
        "  def removeNode(self, value):\n",
        "    travNode = self.head\n",
        "    nodeFound = False\n",
        "\n",
        "    while(not nodeFound):\n",
        "      if travNode.getValue() == value:\n",
        "        nodeFound = True\n",
        "      else:\n",
        "        travNode = travNode.getNext()\n",
        "\n",
        "    if nodeFound is True:\n",
        "      if travNode is self.head: # Node to be deleted is the head node\n",
        "        self.head = travNode.getNext()\n",
        "        self.head.setPrev(None)\n",
        "\n",
        "      elif travNode.getNext() is not None: # Node to be deleted is neither the head node nor the last node\n",
        "        prevNode = travNode.getPrev()\n",
        "        nextNode = travNode.getNext()\n",
        "        prevNode.setNext(nextNode)\n",
        "        nextNode.setPrev(prevNode)\n",
        "\n",
        "      else: # Node to be deleted is the last node\n",
        "        prevNode = travNode.getPrev()\n",
        "        prevNode.setNext(None)\n",
        "\n",
        "      del travNode # delete the node\n",
        "\n",
        "  def displayList(self):\n",
        "    print(\" \", self.head.getValue(), end = \"\")\n",
        "    travNode = self.head.getNext()\n",
        "    while travNode is not None:\n",
        "      print(\" -> \", travNode.getValue(), end = \"\")\n",
        "      travNode = travNode.getNext()\n"
      ],
      "metadata": {
        "id": "rcjRhmp3Ph9F"
      },
      "execution_count": 7,
      "outputs": []
    },
    {
      "cell_type": "code",
      "source": [
        "print(\"Creating list with head element: 2\")\n",
        "listObj = LinkedList(2)\n",
        "\n",
        "print(\"Adding elements: 3, 'a', 'bat', [34], 2...\")\n",
        "item = None\n",
        "for item in [3, 'a', 'bat', [34], 2]:\n",
        "  listObj.addNode(item)\n",
        "\n",
        "print('What are its contents?')\n",
        "listObj.displayList()\n",
        "print()\n",
        "\n",
        "print(\"Removing element: 2\")\n",
        "listObj.removeNode(2)\n",
        "\n",
        "print('Updated list:')\n",
        "listObj.displayList()\n",
        "print()\n",
        "\n",
        "print(\"Removing element: [34]\")\n",
        "listObj.removeNode([34])\n",
        "\n",
        "print('Final list:')\n",
        "listObj.displayList()"
      ],
      "metadata": {
        "colab": {
          "base_uri": "https://localhost:8080/"
        },
        "id": "eCouLKYwSM9i",
        "outputId": "8ba7470b-4f5f-427d-b163-83f542ab932f"
      },
      "execution_count": 8,
      "outputs": [
        {
          "output_type": "stream",
          "name": "stdout",
          "text": [
            "Creating list with head element: 2\n",
            "Adding elements: 3, 'a', 'bat', [34], 2...\n",
            "What are its contents?\n",
            "  2 ->  3 ->  a ->  bat ->  [34] ->  2\n",
            "Removing element: 2\n",
            "Updated list:\n",
            "  3 ->  a ->  bat ->  [34] ->  2\n",
            "Removing element: [34]\n",
            "Final list:\n",
            "  3 ->  a ->  bat ->  2"
          ]
        }
      ]
    }
  ]
}